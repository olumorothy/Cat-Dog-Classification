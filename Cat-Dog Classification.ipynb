{
 "cells": [
  {
   "cell_type": "code",
   "execution_count": 4,
   "id": "39212db5",
   "metadata": {},
   "outputs": [],
   "source": [
    "from keras.models import Sequential\n",
    "from keras.layers import Conv2D,MaxPooling2D,Flatten,Dense"
   ]
  },
  {
   "cell_type": "code",
   "execution_count": 3,
   "id": "5deacdb0",
   "metadata": {},
   "outputs": [],
   "source": [
    "#Initialising the CNN\n",
    "model = Sequential()"
   ]
  },
  {
   "cell_type": "code",
   "execution_count": 6,
   "id": "51341864",
   "metadata": {},
   "outputs": [],
   "source": [
    "#First layer\n",
    "#The input layer means each picture is 64 by 64 pixels and had 3 values and it is important it matches\n",
    "model.add(Conv2D(32,(3,3),input_shape=(64,64,3),activation='relu'))\n",
    "#second layer\n",
    "model.add(Conv2D(32,(3,3),activation='relu'))\n",
    "model.add(MaxPooling2D(pool_size=(2,2))) #This is reducing the 3layers from imput shape to 2 dimension"
   ]
  },
  {
   "cell_type": "code",
   "execution_count": 7,
   "id": "578653f3",
   "metadata": {},
   "outputs": [],
   "source": [
    "#Flattening=> I dont just a single array instaed of 2by2\n",
    "model.add(Flatten())\n",
    "\n",
    "#Connecting the whole layers\n",
    "model.add(Dense(units=128,activation='relu'))\n",
    "model.add(Dense(units=1,activation='sigmoid'))"
   ]
  },
  {
   "cell_type": "code",
   "execution_count": 8,
   "id": "5bf59dfa",
   "metadata": {},
   "outputs": [],
   "source": [
    "#Compilation\n",
    "model.compile(optimizer='adam',loss='binary_crossentropy',metrics=['accuracy'])"
   ]
  },
  {
   "cell_type": "code",
   "execution_count": 9,
   "id": "6e564b9f",
   "metadata": {},
   "outputs": [],
   "source": [
    "# Image Generator\n",
    "from keras.preprocessing.image import ImageDataGenerator\n",
    "training_data_generator = ImageDataGenerator(rescale=1./255,\n",
    "                                            shear_range=0.2,\n",
    "                                            zoom_range=0.2,\n",
    "                                            horizontal_flip=True)"
   ]
  },
  {
   "cell_type": "raw",
   "id": "a2b69bab",
   "metadata": {},
   "source": []
  },
  {
   "cell_type": "code",
   "execution_count": 10,
   "id": "3a3a73e3",
   "metadata": {},
   "outputs": [
    {
     "name": "stdout",
     "output_type": "stream",
     "text": [
      "Found 8000 images belonging to 2 classes.\n"
     ]
    }
   ],
   "source": [
    "training_data = training_data_generator.flow_from_directory('dataset/training_set',\n",
    "                                                           target_size=(64,64),\n",
    "                                                           batch_size=32,\n",
    "                                                           class_mode='binary')"
   ]
  },
  {
   "cell_type": "code",
   "execution_count": null,
   "id": "1d2d0ffd",
   "metadata": {},
   "outputs": [],
   "source": [
    "test_data_generator=ImageDataGenerator(rescale=1./255)\n",
    "test_data = training_data_generator.flow_from_directory('dataset/test_set',\n",
    "                                                       target_size=(64,64),\n",
    "                                                       batch_size=32)"
   ]
  }
 ],
 "metadata": {
  "kernelspec": {
   "display_name": "Python 3 (ipykernel)",
   "language": "python",
   "name": "python3"
  },
  "language_info": {
   "codemirror_mode": {
    "name": "ipython",
    "version": 3
   },
   "file_extension": ".py",
   "mimetype": "text/x-python",
   "name": "python",
   "nbconvert_exporter": "python",
   "pygments_lexer": "ipython3",
   "version": "3.10.5"
  }
 },
 "nbformat": 4,
 "nbformat_minor": 5
}
