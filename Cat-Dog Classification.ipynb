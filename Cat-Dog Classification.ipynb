{
 "cells": [
  {
   "cell_type": "code",
   "execution_count": 4,
   "id": "7d7e83e0",
   "metadata": {},
   "outputs": [],
   "source": [
    "from keras.models import Sequential\n",
    "from keras.layers import Conv2D,MaxPooling2D,Flatten,Dense"
   ]
  },
  {
   "cell_type": "code",
   "execution_count": 3,
   "id": "2e93c994",
   "metadata": {},
   "outputs": [],
   "source": [
    "#Initialising the CNN\n",
    "model = Sequential()"
   ]
  },
  {
   "cell_type": "code",
   "execution_count": 6,
   "id": "56bc348e",
   "metadata": {},
   "outputs": [],
   "source": [
    "#First layer\n",
    "#The input layer means each picture is 64 by 64 pixels and had 3 values and it is important it matches\n",
    "model.add(Conv2D(32,(3,3),input_shape=(64,64,3),activation='relu'))\n",
    "#second layer\n",
    "model.add(Conv2D(32,(3,3),activation='relu'))\n",
    "model.add(MaxPooling2D(pool_size=(2,2))) #This is reducing the 3layers from imput shape to 2 dimension"
   ]
  },
  {
   "cell_type": "code",
   "execution_count": 7,
   "id": "db733c66",
   "metadata": {},
   "outputs": [],
   "source": [
    "#Flattening=> I dont just a single array instaed of 2by2\n",
    "model.add(Flatten())\n",
    "\n",
    "#Connecting the whole layers\n",
    "model.add(Dense(units=128,activation='relu'))\n",
    "model.add(Dense(units=1,activation='sigmoid'))"
   ]
  },
  {
   "cell_type": "code",
   "execution_count": 8,
   "id": "6dea9a24",
   "metadata": {},
   "outputs": [],
   "source": [
    "#Compilation\n",
    "model.compile(optimizer='adam',loss='binary_crossentropy',metrics=['accuracy'])"
   ]
  },
  {
   "cell_type": "code",
   "execution_count": 9,
   "id": "630ea2bc",
   "metadata": {},
   "outputs": [],
   "source": [
    "# Image Generator\n",
    "from keras.preprocessing.image import ImageDataGenerator\n",
    "training_data_generator = ImageDataGenerator(rescale=1./255,\n",
    "                                            shear_range=0.2,\n",
    "                                            zoom_range=0.2,\n",
    "                                            horizontal_flip=True)"
   ]
  },
  {
   "cell_type": "raw",
   "id": "25bf9359",
   "metadata": {},
   "source": []
  },
  {
   "cell_type": "code",
   "execution_count": 10,
   "id": "ba5b2ec7",
   "metadata": {},
   "outputs": [
    {
     "name": "stdout",
     "output_type": "stream",
     "text": [
      "Found 8000 images belonging to 2 classes.\n"
     ]
    }
   ],
   "source": [
    "training_data = training_data_generator.flow_from_directory('dataset/training_set',\n",
    "                                                           target_size=(64,64),\n",
    "                                                           batch_size=32,\n",
    "                                                           class_mode='binary')"
   ]
  },
  {
   "cell_type": "code",
   "execution_count": 11,
   "id": "7763d29b",
   "metadata": {},
   "outputs": [
    {
     "name": "stdout",
     "output_type": "stream",
     "text": [
      "Found 2000 images belonging to 2 classes.\n"
     ]
    }
   ],
   "source": [
    "test_data_generator=ImageDataGenerator(rescale=1./255)\n",
    "\n",
    "test_data = training_data_generator.flow_from_directory('dataset/test_set',\n",
    "                                                       target_size=(64,64),\n",
    "                                                       batch_size=32,\n",
    "                                                       class_mode='binary')"
   ]
  },
  {
   "cell_type": "code",
   "execution_count": 14,
   "id": "7f5b784f",
   "metadata": {},
   "outputs": [
    {
     "name": "stdout",
     "output_type": "stream",
     "text": [
      "Epoch 1/10\n",
      "250/250 [==============================] - 45s 179ms/step - loss: 0.5892 - accuracy: 0.6829 - val_loss: 0.5768 - val_accuracy: 0.6875\n",
      "Epoch 2/10\n",
      "250/250 [==============================] - 46s 182ms/step - loss: 0.5538 - accuracy: 0.7157 - val_loss: 0.5907 - val_accuracy: 0.6938\n",
      "Epoch 3/10\n",
      "250/250 [==============================] - 51s 203ms/step - loss: 0.5211 - accuracy: 0.7437 - val_loss: 0.5484 - val_accuracy: 0.7031\n",
      "Epoch 4/10\n",
      "250/250 [==============================] - 54s 214ms/step - loss: 0.5068 - accuracy: 0.7490 - val_loss: 0.5100 - val_accuracy: 0.7500\n",
      "Epoch 5/10\n",
      "250/250 [==============================] - 52s 208ms/step - loss: 0.4793 - accuracy: 0.7692 - val_loss: 0.5205 - val_accuracy: 0.7188\n",
      "Epoch 6/10\n",
      "250/250 [==============================] - 46s 185ms/step - loss: 0.4664 - accuracy: 0.7747 - val_loss: 0.5049 - val_accuracy: 0.7625\n",
      "Epoch 7/10\n",
      "250/250 [==============================] - 44s 174ms/step - loss: 0.4545 - accuracy: 0.7832 - val_loss: 0.5186 - val_accuracy: 0.7375\n",
      "Epoch 8/10\n",
      "250/250 [==============================] - 43s 174ms/step - loss: 0.4378 - accuracy: 0.7926 - val_loss: 0.5022 - val_accuracy: 0.7375\n",
      "Epoch 9/10\n",
      "250/250 [==============================] - 44s 175ms/step - loss: 0.4273 - accuracy: 0.7987 - val_loss: 0.5721 - val_accuracy: 0.7469\n",
      "Epoch 10/10\n",
      "250/250 [==============================] - 44s 176ms/step - loss: 0.4144 - accuracy: 0.8060 - val_loss: 0.4882 - val_accuracy: 0.7688\n"
     ]
    },
    {
     "data": {
      "text/plain": [
       "<keras.callbacks.History at 0x121d5c7f0>"
      ]
     },
     "execution_count": 14,
     "metadata": {},
     "output_type": "execute_result"
    }
   ],
   "source": [
    "#This is where the back progapation takes place\n",
    "model.fit(training_data,\n",
    "                   epochs=10,\n",
    "                   validation_data=test_data,\n",
    "                   validation_steps=10)"
   ]
  },
  {
   "cell_type": "code",
   "execution_count": 18,
   "id": "ab7b830c",
   "metadata": {},
   "outputs": [],
   "source": [
    "#Making new Predictions\n",
    "\n",
    "import numpy as np\n",
    "from keras.utils import load_img, img_to_array\n"
   ]
  },
  {
   "cell_type": "code",
   "execution_count": 21,
   "id": "68db1280",
   "metadata": {},
   "outputs": [
    {
     "name": "stdout",
     "output_type": "stream",
     "text": [
      "1/1 [==============================] - 0s 17ms/step\n",
      "cat\n"
     ]
    }
   ],
   "source": [
    "test_image = load_img('dataset/single_prediction/cat_or_dog_2.jpg',target_size=(64,64))\n",
    "test_image = img_to_array(test_image)\n",
    "test_image = np.expand_dims(test_image,axis=0)\n",
    "result = model.predict(test_image)\n",
    "training_data.class_indices\n",
    "\n",
    "if result[0][0]==1:\n",
    "    prediction='dog'\n",
    "else:\n",
    "    prediction='cat'\n",
    "print(prediction)"
   ]
  },
  {
   "cell_type": "code",
   "execution_count": null,
   "id": "2d1ee7e0",
   "metadata": {},
   "outputs": [],
   "source": []
  }
 ],
 "metadata": {
  "kernelspec": {
   "display_name": "Python 3 (ipykernel)",
   "language": "python",
   "name": "python3"
  },
  "language_info": {
   "codemirror_mode": {
    "name": "ipython",
    "version": 3
   },
   "file_extension": ".py",
   "mimetype": "text/x-python",
   "name": "python",
   "nbconvert_exporter": "python",
   "pygments_lexer": "ipython3",
   "version": "3.10.5"
  }
 },
 "nbformat": 4,
 "nbformat_minor": 5
}
