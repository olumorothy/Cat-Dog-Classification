{
 "cells": [
  {
   "cell_type": "code",
   "execution_count": 4,
   "id": "dc18473f",
   "metadata": {},
   "outputs": [],
   "source": [
    "from keras.models import Sequential\n",
    "from keras.layers import Conv2D,MaxPooling2D,Flatten,Dense"
   ]
  },
  {
   "cell_type": "code",
   "execution_count": 3,
   "id": "c15b6704",
   "metadata": {},
   "outputs": [],
   "source": [
    "#Initialising the CNN\n",
    "model = Sequential()"
   ]
  },
  {
   "cell_type": "code",
   "execution_count": 6,
   "id": "01cb3df4",
   "metadata": {},
   "outputs": [],
   "source": [
    "#First layer\n",
    "#The input layer means each picture is 64 by 64 pixels and had 3 values and it is important it matches\n",
    "model.add(Conv2D(32,(3,3),input_shape=(64,64,3),activation='relu'))\n",
    "#second layer\n",
    "model.add(Conv2D(32,(3,3),activation='relu'))\n",
    "model.add(MaxPooling2D(pool_size=(2,2))) #This is reducing the 3layers from imput shape to 2 dimension"
   ]
  },
  {
   "cell_type": "code",
   "execution_count": 7,
   "id": "922e405c",
   "metadata": {},
   "outputs": [],
   "source": [
    "#Flattening=> I dont just a single array instaed of 2by2\n",
    "model.add(Flatten())\n",
    "\n",
    "#Connecting the whole layers\n",
    "model.add(Dense(units=128,activation='relu'))\n",
    "model.add(Dense(units=1,activation='sigmoid'))"
   ]
  },
  {
   "cell_type": "code",
   "execution_count": 8,
   "id": "e153d38e",
   "metadata": {},
   "outputs": [],
   "source": [
    "#Compilation\n",
    "model.compile(optimizer='adam',loss='binary_crossentropy',metrics=['accuracy'])"
   ]
  },
  {
   "cell_type": "code",
   "execution_count": null,
   "id": "0406ac7a",
   "metadata": {},
   "outputs": [],
   "source": []
  }
 ],
 "metadata": {
  "kernelspec": {
   "display_name": "Python 3 (ipykernel)",
   "language": "python",
   "name": "python3"
  },
  "language_info": {
   "codemirror_mode": {
    "name": "ipython",
    "version": 3
   },
   "file_extension": ".py",
   "mimetype": "text/x-python",
   "name": "python",
   "nbconvert_exporter": "python",
   "pygments_lexer": "ipython3",
   "version": "3.10.5"
  }
 },
 "nbformat": 4,
 "nbformat_minor": 5
}
